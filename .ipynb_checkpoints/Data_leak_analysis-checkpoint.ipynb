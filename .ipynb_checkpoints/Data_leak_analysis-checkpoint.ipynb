{
 "cells": [
  {
   "cell_type": "code",
   "execution_count": 8,
   "metadata": {
    "colab": {
     "base_uri": "https://localhost:8080/",
     "height": 145
    },
    "colab_type": "code",
    "id": "AF21qQVte_i6",
    "outputId": "c834348f-604e-40cd-9dac-a518197f3472"
   },
   "outputs": [
    {
     "name": "stdout",
     "output_type": "stream",
     "text": [
      "Using DATA_DIR  datadir\n"
     ]
    }
   ],
   "source": [
    "import sys\n",
    "import os.path\n",
    "import json\n",
    "import pandas as pd\n",
    "import numpy as np\n",
    "import os\n",
    "import matplotlib.pyplot as plt\n",
    "%matplotlib inline \n",
    "\n",
    "IN_COLAB = 'google.colab' in sys.modules\n",
    "\n",
    "if IN_COLAB:\n",
    "  from google.colab import drive\n",
    "  drive.mount('/content/gdrive') \n",
    "  if not os.path.isfile('SETTINGS.json'):\n",
    "       # hard coded data directory in drive is used if SETTINGS.json not present \n",
    "       config={}\n",
    "       config['DATA_DIR'] = '/content/gdrive/My Drive/kaggle-c1'\n",
    "       with open('SETTINGS.json', 'w') as outfile:\n",
    "         json.dump(config, outfile)\n",
    "\n",
    "with open('SETTINGS.json') as config_file:\n",
    "    config = json.load(config_file)\n",
    "\n",
    "DATA_DIR = config['DATA_DIR']\n",
    "\n",
    "print('Using DATA_DIR ', DATA_DIR)\n"
   ]
  },
  {
   "cell_type": "code",
   "execution_count": 5,
   "metadata": {},
   "outputs": [
    {
     "name": "stdout",
     "output_type": "stream",
     "text": [
      "C:\\Users\\Ville\\d_drive\\work\\repos\\kaggle-final-project\n"
     ]
    }
   ],
   "source": [
    "!cd"
   ]
  },
  {
   "cell_type": "code",
   "execution_count": 9,
   "metadata": {
    "colab": {},
    "colab_type": "code",
    "id": "IvTOR3z7uo75"
   },
   "outputs": [],
   "source": [
    "DATA_FOLDER = DATA_DIR\n",
    "\n",
    "transactions    = pd.read_csv(os.path.join(DATA_FOLDER, 'sales_train.csv'))\n",
    "items           = pd.read_csv(os.path.join(DATA_FOLDER, 'items.csv'))\n",
    "item_categories = pd.read_csv(os.path.join(DATA_FOLDER, 'item_categories.csv'))\n",
    "shops           = pd.read_csv(os.path.join(DATA_FOLDER, 'shops.csv'))\n",
    "sample_submission = pd.read_csv(os.path.join(DATA_FOLDER, 'sample_submission.csv'))\n",
    "test_spec = pd.read_csv(os.path.join(DATA_FOLDER, 'test.csv'))"
   ]
  },
  {
   "cell_type": "markdown",
   "metadata": {},
   "source": [
    "# Data leak analysis\n",
    "\n",
    "Data leaks are the flow of such information to the data science contest participants that would not be available\n",
    "if the data science task would be performed in a real life setting, not as a task in a contest. \n",
    "\n",
    "Examples of possible mechanisms for data leaks:\n",
    "* leaks through the contest leaderboard\n",
    "* temporal overlapping or interleaving of training and testing periods, if the task involves a temporal element\n",
    "* naming of variables in a prediction task so that the names reveal something about the true values of the target variable in the test set\n",
    "* numerical encoding categorical variable values so that the ordering reveal something about the true values of the target variable in the test set\n",
    "* ordering the test cases so that the ordering reveal something about the true values of the target variable in the test set\n",
    "\n",
    "In a general case, analysis can not rule out the possibility of data leaks to exist. It is only possible to positively identify \n",
    "data leaks. One can also hypothesise mechanisms for data leaks and check whether they really exist in the particular contest at hand.\n",
    "\n"
   ]
  },
  {
   "cell_type": "markdown",
   "metadata": {},
   "source": [
    "## Leaderboard\n",
    "\n",
    "Every time a contestant receives a score on the leaderboard for his submission, some leakage of information happens: how close \n",
    "the submission was to the prediction target. The leaderboard can be systematically probed to bring the submissions closer to the target.\n",
    "\n",
    "Any validation of submissions on the leaderboard causes some data to leak through the leaderboard. However, in the case of the current C1 contest \n",
    "the submissions have so many independent entries, i.e. large information content, that the amount of information leaking through the leaderboard\n",
    "is minor in comparison. On the other hand, the importance of the data leak by LB validation increases in the case of this contest, as it is difficult to construct other alternative validation mechanisms that would accurately reflect the characteristics of the evaluation data. \n",
    "\n",
    "Our solution to the predistion task employs some leaderboard probing to determine the optimal scaling of the predictions as a post-processing step. More aggressive validation on the leaderboard would have probably resulted in better accuracy of predictions.\n",
    "\n",
    "Contests often have separate public and private leaderboards. Maximising the private leaderboard score can uaually be regarded as the real task \n",
    "of the contest. One type of data leak is the leakage between public and private leaderboards. Without such leakage, even exhaustive probing of the public leaderboard would only provide an additional training set for the private prediction task. However, in this contest the private and public leaderboards temporally share the same evaluation period, as shown by the analysis in the next notebook cells, and seemingly randomly split the evaluation cases between the two leaderboards. Consequently, the evaluation sets seem to share many statistics and at least the similar temporal trend in comparison with the training data. This means that in this contest, probing the public leaderboard almost directly reveals how to improve in the private prediction task. This is evidenced also by the following scatter plot that shows the correlation between public and private leaderboard scores of some of our recent submissions, evaluated by the Coursera grader.\n",
    "\n",
    "\n"
   ]
  },
  {
   "cell_type": "code",
   "execution_count": 18,
   "metadata": {},
   "outputs": [
    {
     "data": {
      "text/plain": [
       "<AxesSubplot:>"
      ]
     },
     "execution_count": 18,
     "metadata": {},
     "output_type": "execute_result"
    },
    {
     "data": {
      "image/png": "[encoded data removed]",
      "text/plain": [
       "<Figure size 432x288 with 1 Axes>"
      ]
     },
     "metadata": {
      "needs_background": "light"
     },
     "output_type": "display_data"
    }
   ],
   "source": [
    "import matplotlib.pyplot as plt\n",
    "import seaborn as sns\n",
    "\n",
    "public_scores=[\n",
    "    0.959457,\n",
    "    0.959404,\n",
    "    0.960635,\n",
    "    1.003010,\n",
    "    0.981348,\n",
    "    1.005539,\n",
    "    1.007823, \n",
    "    1.031497,\n",
    "    1.114415,\n",
    "    1.217538, \n",
    "]\n",
    "private_scores=[\n",
    "    0.953158,\n",
    "    0.953130,\n",
    "    0.954215,\n",
    "    0.991288,\n",
    "    0.977585,\n",
    "    0.996209,\n",
    "    1.019363,\n",
    "    1.036105,\n",
    "    1.119150,\n",
    "    1.203256\n",
    "]\n",
    "\n",
    "sns.scatterplot(x=public_scores, y=private_scores)"
   ]
  },
  {
   "cell_type": "markdown",
   "metadata": {},
   "source": [
    "We see there is rather direct leak between public and private leaderboards. In the context of the Coursera course\n",
    "this bears no practical significance as the Coursera grader directly reports also the private leaderboard score. In this case, there is no need to use the public LB as a proxy for the private LB. In a standard Kaggle competition setting where only the public LB can be probed, the situation would be different, and the private LB score could be improved by probing the public leaderboard.   "
   ]
  },
  {
   "cell_type": "markdown",
   "metadata": {},
   "source": [
    "## Temporal arrangement of data\n",
    "\n",
    "If the prediction task involves a temporal element, data leaks are practically unavoidable unless training and test data originate from distinct time intervals. In the present competition, the training and test data time periods indeed are temporally distinct and not interleaved. Time interval overlap does not cause data leaks here.\n",
    "\n",
    "The public and private leaderboards, however, share the same time period and there is rather direct data leak between them. As mentioned already before, this does not have any pratical consequences in the Coursera project setting, however. "
   ]
  },
  {
   "cell_type": "markdown",
   "metadata": {},
   "source": [
    "## Naming of variables\n",
    "\n",
    "It does not seem plausible that the provided variable names\n",
    "* shop_id\n",
    "* item_id\n",
    "* item_name\n",
    "* item_category_id\n",
    "* item_category_name\n",
    "\n",
    "could have been determined on the basis of the target variable values in the test set."
   ]
  },
  {
   "cell_type": "markdown",
   "metadata": {},
   "source": [
    "## Numerical encoding of categorical variables\n",
    "\n",
    "A data leak could occur if some of the categorical variables would have been encoded in such a way that\n",
    "the numerical encoding was based on some statistic of the test set. We can rule out such data leaks if we can find out some other reason behind the encodingscheme of variables"
   ]
  },
  {
   "cell_type": "markdown",
   "metadata": {},
   "source": [
    "### Shop_id\n",
    "Shop_id seems to be assigned by alphabetical order of shop names. No data leak here."
   ]
  },
  {
   "cell_type": "markdown",
   "metadata": {},
   "source": [
    "### Item_id\n",
    "\n",
    "Item_id seems to be assigned by alphabetical order of item names. No data leak here either."
   ]
  },
  {
   "cell_type": "markdown",
   "metadata": {},
   "source": [
    "### Item_category_id\n",
    "\n",
    "Item_category_id seems to be assigned by alphabetical order of item category names. No data leak here either."
   ]
  },
  {
   "cell_type": "markdown",
   "metadata": {},
   "source": [
    "## Order of appearance in the test set"
   ]
  },
  {
   "cell_type": "markdown",
   "metadata": {},
   "source": [
    "As found out in the EDA part, the test set specification enumerates all the combinations of shops and item ids from lists of active shops and items. However, the order of appearance could be based on some statistic of the test set, which could be potentially source af a data leak. "
   ]
  },
  {
   "cell_type": "code",
   "execution_count": 19,
   "metadata": {},
   "outputs": [
    {
     "data": {
      "text/plain": [
       "<AxesSubplot:xlabel='ID', ylabel='shop_id'>"
      ]
     },
     "execution_count": 19,
     "metadata": {},
     "output_type": "execute_result"
    },
    {
     "data": {
      "image/png": "[encoded data removed]",
      "text/plain": [
       "<Figure size 432x288 with 1 Axes>"
      ]
     },
     "metadata": {
      "needs_background": "light"
     },
     "output_type": "display_data"
    }
   ],
   "source": [
    "sns.scatterplot(data=test_spec, x='ID', y='shop_id')"
   ]
  },
  {
   "cell_type": "markdown",
   "metadata": {},
   "source": [
    "From the above plot we see that the shops do not appear in the order of shop_id's in the test set. There may be some other explanation."
   ]
  },
  {
   "cell_type": "code",
   "execution_count": null,
   "metadata": {},
   "outputs": [],
   "source": []
  }
 ],
 "metadata": {
  "kernelspec": {
   "display_name": "Python 3",
   "language": "python",
   "name": "python3"
  },
  "language_info": {
   "codemirror_mode": {
    "name": "ipython",
    "version": 3
   },
   "file_extension": ".py",
   "mimetype": "text/x-python",
   "name": "python",
   "nbconvert_exporter": "python",
   "pygments_lexer": "ipython3",
   "version": "3.6.5"
  }
 },
 "nbformat": 4,
 "nbformat_minor": 4
}
