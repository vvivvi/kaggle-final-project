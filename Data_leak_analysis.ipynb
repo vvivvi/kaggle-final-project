{
 "cells": [
  {
   "cell_type": "markdown",
   "metadata": {},
   "source": [
    "# Data leak analysis\n",
    "\n",
    "Data leaks are the flow of such information to the data science contest participants that would not be available\n",
    "if the data science task would be performed in a real life setting, not as a task in a contest. \n",
    "\n",
    "Examples of possible mechanisms for data leaks:\n",
    "* leaks through the contest leaderboard\n",
    "* temporal overlapping or interleaving of training and testing periods, if the task involves a temporal element\n",
    "* naming of variables in a prediction task so that the names reveal something about the true values of the target variable in the test set\n",
    "* numerical encoding categorical variable values so that the ordering reveal something about the true values of the target variable in the test set\n",
    "* ordering the test cases so that the ordering reveal something about the true values of the target variable in the test set\n",
    "\n",
    "In a general case, analysis can not rule out the possibility of data leaks to exist. It is only possible to positively identify \n",
    "data leaks. One can also hypothesise mechanisms for data leaks and check whether they really exist in the particular contest at hand.\n",
    "\n"
   ]
  },
  {
   "cell_type": "markdown",
   "metadata": {},
   "source": [
    "## Leaderboard\n",
    "\n",
    "Every time a contestant receives a score on the leaderboard for his submission, some leakage of information happens: how close \n",
    "the submission was to the prediction target. The leaderboard can be systematically probed to bring the submissions closer to the target.\n",
    "\n",
    "Any validation of submissions on the leaderboard causes some data to leak through the leaderboard. However, in the case of the current C1 contest \n",
    "the submissions have so many independent entries, i.e. large information content, that the amount of information leaking through the leaderboard\n",
    "is minor in comparison. On the other hand, the importance of the data leak by LB validation increases in the case of this contest, as it is difficult to construct other alternative validation mechanisms that would accurately reflect the characteristics of the evaluation data. \n",
    "\n",
    "Our solution to the predistion task employs some leaderboard probing to determine the optimal scaling of the predictions as a post-processing step. More aggressive validation on the leaderboard would have probably resulted in better accuracy of predictions.\n",
    "\n",
    "Contests often have separate public and private leaderboards. Maximising the private leaderboard score can uaually be regarded as the real task \n",
    "of the contest. One type of data leak is the leakage between public and private leaderboards. Without such leakage, even exhaustive probing of the public leaderboard would only provide an additional training set for the private prediction task. However, in this contest the private and public leaderboards temporally share the same evaluation period, as shown by the analysis in the next notebook cells, and seemingly randomly split the evaluation cases between the two leaderboards. Consequently, the evaluation sets seem to share many statistics and at least the similar temporal trend in comparison with the training data. This means that in this contest, probing the public leaderboard almost directly reveals how to improve in the private prediction task. This is evidenced also by the following scatter plot that shows the correlation between public and private leaderboard scores of some of my own submissions, evaluated by the Coursera grader.\n",
    "\n",
    "\n"
   ]
  }
 ],
 "metadata": {
  "kernelspec": {
   "display_name": "Python 3",
   "language": "python",
   "name": "python3"
  },
  "language_info": {
   "codemirror_mode": {
    "name": "ipython",
    "version": 3
   },
   "file_extension": ".py",
   "mimetype": "text/x-python",
   "name": "python",
   "nbconvert_exporter": "python",
   "pygments_lexer": "ipython3",
   "version": "3.7.4"
  }
 },
 "nbformat": 4,
 "nbformat_minor": 4
}
